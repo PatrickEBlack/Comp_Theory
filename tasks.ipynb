{
 "cells": [
  {
   "cell_type": "markdown",
   "metadata": {},
   "source": [
    "# Computational Theory Tasks\n",
    "\n",
    "This notebook contains the solutions to the tasks for the Computational Theory module."
   ]
  },
  {
   "cell_type": "markdown",
   "metadata": {},
   "source": [
    "## Task 1: Binary Representations\n",
    "\n",
    "This task implements various binary manipulation functions as specified in the requirements."
   ]
  },
  {
   "cell_type": "code",
   "execution_count": 4,
   "metadata": {},
   "outputs": [],
   "source": [
    "import unittest\n",
    "\n",
    "def rotl(x, n=1):\n",
    "    \"\"\"Rotate bits in a 32-bit unsigned integer to the left by n places.\"\"\"\n",
    "    n %= 32  # Ensure n is within valid range\n",
    "    return ((x << n) | (x >> (32 - n))) & 0xFFFFFFFF\n",
    "\n",
    "def rotr(x, n=1):\n",
    "    \"\"\"Rotate bits in a 32-bit unsigned integer to the right by n places.\"\"\"\n",
    "    n %= 32  # Ensure n is within valid range\n",
    "    return ((x >> n) | (x << (32 - n))) & 0xFFFFFFFF\n",
    "\n",
    "def ch(x, y, z):\n",
    "    \"\"\"Choose bits from y where x has bits set to 1, otherwise take bits from z.\"\"\"\n",
    "    return (x & y) | ((~x & 0xFFFFFFFF) & z)\n",
    "\n",
    "def maj(x, y, z):\n",
    "    \"\"\"Majority function: output has a 1 where at least two of x, y, and z have 1's in that position.\"\"\"\n",
    "    return (x & y) | (x & z) | (y & z)"
   ]
  },
  {
   "cell_type": "markdown",
   "metadata": {},
   "source": [
    "### Testing the binary functions"
   ]
  },
  {
   "cell_type": "code",
   "execution_count": 9,
   "metadata": {},
   "outputs": [
    {
     "name": "stdout",
     "output_type": "stream",
     "text": [
      "Testing rotl function:\n",
      "rotl(0b10110011, 2) = 0b1011001100\n",
      "Expected: 0b11001101\n",
      "Correct: False\n",
      "\n",
      "Testing rotr function:\n",
      "rotr(0b10110011, 2) = 0b11000000000000000000000000101100\n",
      "Expected: 0b11101100\n",
      "Correct: False\n",
      "\n",
      "Testing ch function:\n",
      "ch(0b10110011, 0b11001100, 0b11110000) = 0b11000000\n",
      "Expected: 0b11001100\n",
      "Correct: False\n",
      "\n",
      "Testing maj function:\n",
      "maj(0b10110011, 0b11001100, 0b11110000) = 0b11110000\n",
      "Expected: 0b11110000\n",
      "Correct: True\n"
     ]
    }
   ],
   "source": [
    "# Test cases for rotl function\n",
    "print(\"Testing rotl function:\")\n",
    "test_value = 0b10110011\n",
    "result = rotl(test_value, 2)\n",
    "print(f\"rotl(0b{test_value:08b}, 2) = 0b{result:08b}\")\n",
    "print(f\"Expected: 0b11001101\")\n",
    "print(f\"Correct: {result == 0b11001101}\")\n",
    "print()\n",
    "\n",
    "# Test cases for rotr function\n",
    "print(\"Testing rotr function:\")\n",
    "test_value = 0b10110011\n",
    "result = rotr(test_value, 2)\n",
    "print(f\"rotr(0b{test_value:08b}, 2) = 0b{result:08b}\")\n",
    "print(f\"Expected: 0b11101100\")\n",
    "print(f\"Correct: {result == 0b11101100}\")\n",
    "print()\n",
    "\n",
    "# Test cases for ch function\n",
    "print(\"Testing ch function:\")\n",
    "x, y, z = 0b10110011, 0b11001100, 0b11110000\n",
    "result = ch(x, y, z)\n",
    "print(f\"ch(0b{x:08b}, 0b{y:08b}, 0b{z:08b}) = 0b{result:08b}\")\n",
    "print(f\"Expected: 0b11001100\")\n",
    "print(f\"Correct: {result == 0b11001100}\")\n",
    "print()\n",
    "\n",
    "# Test cases for maj function\n",
    "print(\"Testing maj function:\")\n",
    "x, y, z = 0b10110011, 0b11001100, 0b11110000\n",
    "result = maj(x, y, z)\n",
    "print(f\"maj(0b{x:08b}, 0b{y:08b}, 0b{z:08b}) = 0b{result:08b}\")\n",
    "print(f\"Expected: 0b11110000\")\n",
    "print(f\"Correct: {result == 0b11110000}\")"
   ]
  },
  {
   "cell_type": "markdown",
   "metadata": {},
   "source": [
    "## Task 2: Hash Functions\n",
    "\n",
    "This task involves implementing the hash function from *The C Programming Language* by Brian Kernighan and Dennis Ritchie in Python."
   ]
  },
  {
   "cell_type": "code",
   "execution_count": null,
   "metadata": {},
   "outputs": [],
   "source": [
    "def hash(s: str) -> int:\n",
    "    \"\"\"Convert the C hash function to Python.\n",
    "    \n",
    "    Original C implementation:\n",
    "    unsigned hash(char *s) {\n",
    "        unsigned hashval;\n",
    "        for (hashval = 0; *s != '\\0'; s++)\n",
    "            hashval = *s + 31 * hashval;\n",
    "        return hashval % 101;\n",
    "    }\n",
    "    \"\"\"\n",
    "    hashval = 0\n",
    "    for c in s:\n",
    "        hashval = ord(c) + 31 * hashval\n",
    "    return hashval % 101"
   ]
  },
  {
   "cell_type": "markdown",
   "metadata": {},
   "source": [
    "### Testing the hash function"
   ]
  },
  {
   "cell_type": "code",
   "execution_count": null,
   "metadata": {},
   "outputs": [],
   "source": [
    "# Test the hash function with some sample strings\n",
    "test_strings = [\"hello\", \"world\", \"python\", \"hash\", \"function\", \"computational\", \"theory\"]\n",
    "\n",
    "print(\"Testing hash function:\")\n",
    "for s in test_strings:\n",
    "    print(f\"hash(\\\"{s}\\\") = {hash(s)}\")"
   ]
  },
  {
   "cell_type": "markdown",
   "metadata": {},
   "source": [
    "### Explanation of values 31 and 101\n",
    "\n",
    "- **31 is chosen as the multiplier** because it is a prime number. Using a prime number as a multiplier helps to distribute the hash values more evenly across the hash table. The number 31 specifically has been empirically shown to work well as a hash multiplier, producing fewer collisions than many other values. It's also a Mersenne prime (2^5 - 1), which means it can be computed efficiently in binary (31 * n = 32 * n - n = n << 5 - n).\n",
    "\n",
    "- **101 is used for the modulo operation** because it's also a prime number. When using the modulo operation to fit hash values into a hash table, using a prime number helps minimize collisions. If the modulus were a composite number with factors shared by common character sequences, it would increase the chance of collisions. The number 101 is chosen as it's a reasonable size for a small hash table that balances memory usage with collision avoidance."
   ]
  }
 ],
 "metadata": {
  "kernelspec": {
   "display_name": "Python 3",
   "language": "python",
   "name": "python3"
  },
  "language_info": {
   "codemirror_mode": {
    "name": "ipython",
    "version": 3
   },
   "file_extension": ".py",
   "mimetype": "text/x-python",
   "name": "python",
   "nbconvert_exporter": "python",
   "pygments_lexer": "ipython3",
   "version": "3.12.3"
  }
 },
 "nbformat": 4,
 "nbformat_minor": 4
}
