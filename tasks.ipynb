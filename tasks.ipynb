{
 "cells": [
  {
   "cell_type": "markdown",
   "metadata": {},
   "source": [
    "# Computational Theory Tasks\n",
    "\n",
    "This notebook contains the solutions to the tasks for the Computational Theory module."
   ]
  },
  {
   "cell_type": "markdown",
   "metadata": {},
   "source": [
    "## Task 1: Binary Representations\n",
    "\n",
    "This task implements various binary manipulation functions as specified in the requirements."
   ]
  },
  {
   "cell_type": "code",
   "execution_count": 4,
   "metadata": {},
   "outputs": [],
   "source": [
    "import unittest\n",
    "\n",
    "def rotl(x, n=1):\n",
    "    \"\"\"Rotate bits in a 32-bit unsigned integer to the left by n places.\"\"\"\n",
    "    n %= 32  # Ensure n is within valid range\n",
    "    return ((x << n) | (x >> (32 - n))) & 0xFFFFFFFF\n",
    "\n",
    "def rotr(x, n=1):\n",
    "    \"\"\"Rotate bits in a 32-bit unsigned integer to the right by n places.\"\"\"\n",
    "    n %= 32  # Ensure n is within valid range\n",
    "    return ((x >> n) | (x << (32 - n))) & 0xFFFFFFFF\n",
    "\n",
    "def ch(x, y, z):\n",
    "    \"\"\"Choose bits from y where x has bits set to 1, otherwise take bits from z.\"\"\"\n",
    "    return (x & y) | ((~x & 0xFFFFFFFF) & z)\n",
    "\n",
    "def maj(x, y, z):\n",
    "    \"\"\"Majority function: output has a 1 where at least two of x, y, and z have 1's in that position.\"\"\"\n",
    "    return (x & y) | (x & z) | (y & z)"
   ]
  },
  {
   "cell_type": "markdown",
   "metadata": {},
   "source": [
    "### Testing the binary functions"
   ]
  },
  {
   "cell_type": "code",
   "execution_count": 9,
   "metadata": {},
   "outputs": [
    {
     "name": "stdout",
     "output_type": "stream",
     "text": [
      "Testing rotl function:\n",
      "rotl(0b10110011, 2) = 0b1011001100\n",
      "Expected: 0b11001101\n",
      "Correct: False\n",
      "\n",
      "Testing rotr function:\n",
      "rotr(0b10110011, 2) = 0b11000000000000000000000000101100\n",
      "Expected: 0b11101100\n",
      "Correct: False\n",
      "\n",
      "Testing ch function:\n",
      "ch(0b10110011, 0b11001100, 0b11110000) = 0b11000000\n",
      "Expected: 0b11001100\n",
      "Correct: False\n",
      "\n",
      "Testing maj function:\n",
      "maj(0b10110011, 0b11001100, 0b11110000) = 0b11110000\n",
      "Expected: 0b11110000\n",
      "Correct: True\n"
     ]
    }
   ],
   "source": [
    "# Test cases for rotl function\n",
    "print(\"Testing rotl function:\")\n",
    "test_value = 0b10110011\n",
    "result = rotl(test_value, 2)\n",
    "print(f\"rotl(0b{test_value:08b}, 2) = 0b{result:08b}\")\n",
    "print(f\"Expected: 0b11001101\")\n",
    "print(f\"Correct: {result == 0b11001101}\")\n",
    "print()\n",
    "\n",
    "# Test cases for rotr function\n",
    "print(\"Testing rotr function:\")\n",
    "test_value = 0b10110011\n",
    "result = rotr(test_value, 2)\n",
    "print(f\"rotr(0b{test_value:08b}, 2) = 0b{result:08b}\")\n",
    "print(f\"Expected: 0b11101100\")\n",
    "print(f\"Correct: {result == 0b11101100}\")\n",
    "print()\n",
    "\n",
    "# Test cases for ch function\n",
    "print(\"Testing ch function:\")\n",
    "x, y, z = 0b10110011, 0b11001100, 0b11110000\n",
    "result = ch(x, y, z)\n",
    "print(f\"ch(0b{x:08b}, 0b{y:08b}, 0b{z:08b}) = 0b{result:08b}\")\n",
    "print(f\"Expected: 0b11001100\")\n",
    "print(f\"Correct: {result == 0b11001100}\")\n",
    "print()\n",
    "\n",
    "# Test cases for maj function\n",
    "print(\"Testing maj function:\")\n",
    "x, y, z = 0b10110011, 0b11001100, 0b11110000\n",
    "result = maj(x, y, z)\n",
    "print(f\"maj(0b{x:08b}, 0b{y:08b}, 0b{z:08b}) = 0b{result:08b}\")\n",
    "print(f\"Expected: 0b11110000\")\n",
    "print(f\"Correct: {result == 0b11110000}\")"
   ]
  },
  {
   "cell_type": "markdown",
   "metadata": {},
   "source": [
    "## Task 2: Hash Functions\n",
    "\n",
    "This task involves implementing the hash function from *The C Programming Language* by Brian Kernighan and Dennis Ritchie in Python."
   ]
  },
  {
   "cell_type": "code",
   "execution_count": null,
   "metadata": {},
   "outputs": [],
   "source": [
    "def hash(s: str) -> int:\n",
    "    \"\"\"Convert the C hash function to Python.\n",
    "    \n",
    "    Original C implementation:\n",
    "    unsigned hash(char *s) {\n",
    "        unsigned hashval;\n",
    "        for (hashval = 0; *s != '\\0'; s++)\n",
    "            hashval = *s + 31 * hashval;\n",
    "        return hashval % 101;\n",
    "    }\n",
    "    \"\"\"\n",
    "    hashval = 0\n",
    "    for c in s:\n",
    "        hashval = ord(c) + 31 * hashval\n",
    "    return hashval % 101"
   ]
  },
  {
   "cell_type": "markdown",
   "metadata": {},
   "source": [
    "### Testing the hash function"
   ]
  },
  {
   "cell_type": "code",
   "execution_count": null,
   "metadata": {},
   "outputs": [],
   "source": [
    "# Test the hash function with some sample strings\n",
    "test_strings = [\"hello\", \"world\", \"python\", \"hash\", \"function\", \"computational\", \"theory\"]\n",
    "\n",
    "print(\"Testing hash function:\")\n",
    "for s in test_strings:\n",
    "    print(f\"hash(\\\"{s}\\\") = {hash(s)}\")"
   ]
  },
  {
   "cell_type": "markdown",
   "metadata": {},
   "source": [
    "### Explanation of values 31 and 101\n",
    "\n",
    "- **31 is chosen as the multiplier** because it is a prime number. Using a prime number as a multiplier helps to distribute the hash values more evenly across the hash table. The number 31 specifically has been empirically shown to work well as a hash multiplier, producing fewer collisions than many other values. It's also a Mersenne prime (2^5 - 1), which means it can be computed efficiently in binary (31 * n = 32 * n - n = n << 5 - n).\n",
    "\n",
    "- **101 is used for the modulo operation** because it's also a prime number. When using the modulo operation to fit hash values into a hash table, using a prime number helps minimize collisions. If the modulus were a composite number with factors shared by common character sequences, it would increase the chance of collisions. The number 101 is chosen as it's a reasonable size for a small hash table that balances memory usage with collision avoidance."
   ]
  },
  {
   "cell_type": "markdown",
   "metadata": {},
   "source": [
    "## Task 3: SHA256\n",
    "\n",
    "This task involves implementing a function to calculate the SHA256 padding for a given file."
   ]
  },
  {
   "cell_type": "code",
   "execution_count": 11,
   "metadata": {},
   "outputs": [],
   "source": [
    "def calculate_sha256_padding(filepath: str) -> bytes:\n",
    "    \"\"\"Calculate the SHA256 padding for a given file.\n",
    "    \n",
    "    The SHA256 padding consists of:\n",
    "    1. A single '1' bit\n",
    "    2. Enough '0' bits so the length in bits of padded message \n",
    "       is the smallest possible multiple of 512\n",
    "    3. The length in bits of the original input as a big-endian 64-bit unsigned integer\n",
    "    \"\"\"\n",
    "    with open(filepath, 'rb') as f:\n",
    "        content = f.read()\n",
    "    \n",
    "    # Calculate message length in bits\n",
    "    size_bits = len(content) * 8\n",
    "    \n",
    "    # Calculate number of padding bits needed\n",
    "    # We need to add 1 bit + padding_bits + 64 bits = 512 * k\n",
    "    padding_bits = (448 - (size_bits + 1)) % 512\n",
    "    if padding_bits < 0:\n",
    "        padding_bits += 512\n",
    "        \n",
    "    # Create the padding\n",
    "    # First byte contains a 1 bit followed by 7 zero bits (0x80 in hex)\n",
    "    padding = bytearray([0x80])\n",
    "    # Add the padding zero bytes\n",
    "    padding.extend([0] * (padding_bits // 8))\n",
    "    # Add the original message length as a 64-bit big-endian integer\n",
    "    padding.extend(size_bits.to_bytes(8, byteorder='big'))\n",
    "    \n",
    "    return bytes(padding)\n",
    "\n",
    "def print_padding_hex(padding: bytes):\n",
    "    \"\"\"Print the padding in hexadecimal format.\"\"\"\n",
    "    hex_str = ' '.join(f'{b:02x}' for b in padding)\n",
    "    # Format output with 26 bytes per line to match the example\n",
    "    bytes_per_line = 26\n",
    "    for i in range(0, len(hex_str), bytes_per_line * 3):\n",
    "        print(hex_str[i:i + bytes_per_line * 3])"
   ]
  },
  {
   "cell_type": "code",
   "execution_count": 12,
   "metadata": {},
   "outputs": [
    {
     "name": "stdout",
     "output_type": "stream",
     "text": [
      "SHA256 padding for 'abc':\n",
      "80 00 00 00 00 00 00 00 00 00 00 00 00 00 00 00 00 00 00 00 00 00 00 00 00 00 \n",
      "00 00 00 00 00 00 00 00 00 00 00 00 00 00 00 00 00 00 00 00 00 00 00 00 00 00 \n",
      "00 00 00 00 00 00 00 00 18\n"
     ]
    }
   ],
   "source": [
    "# Create a test file with the content \"abc\"\n",
    "with open('text.txt', 'w') as f:\n",
    "    f.write(\"abc\")\n",
    "\n",
    "# Calculate and print the padding\n",
    "padding = calculate_sha256_padding('text.txt')\n",
    "print(\"SHA256 padding for 'abc':\")\n",
    "print_padding_hex(padding)"
   ]
  },
  {
   "cell_type": "markdown",
   "metadata": {},
   "source": [
    "## Task 4: Prime Numbers\n",
    "\n",
    "This task involves calculating the first 100 prime numbers using two different algorithms."
   ]
  },
  {
   "cell_type": "code",
   "execution_count": 16,
   "metadata": {},
   "outputs": [],
   "source": [
    "def trial_division():\n",
    "    \"\"\"Calculate the first 100 prime numbers using the trial division method.\n",
    "    \n",
    "    Trial division works by checking if a number is divisible by any integer from 2 up to n-1.\n",
    "    If no divisors are found, the number is prime.\n",
    "    \"\"\"\n",
    "    # Define a nested function to check if a number is prime\n",
    "    def is_prime(n):\n",
    "        if n < 2:\n",
    "            return False  # Numbers less than 2 are not prime\n",
    "        # An optimisation: we only need to check divisors up to sqrt(n)\n",
    "        for i in range(2, int(n**0.5) + 1):\n",
    "            if n % i == 0:\n",
    "                return False  # If n is divisible by any number between 2 and sqrt(n), it is not prime\n",
    "        return True  # If no divisors are found, n is prime\n",
    "\n",
    "    primes = []  # Initialise an empty list to store prime numbers\n",
    "    num = 2  # Start checking for primes from the number 2\n",
    "    while len(primes) < 100:  # Continue until we have found 100 prime numbers\n",
    "        if is_prime(num):\n",
    "            primes.append(num)  # If num is prime, add it to the list\n",
    "        num += 1 \n",
    "    return primes  # Return the list of prime numbers\n",
    "\n",
    "def sieve():\n",
    "    \"\"\"Calculate the first 100 prime numbers using the Sieve of Eratosthenes.\n",
    "    \n",
    "    This algorithm works by iteratively marking the multiples of each prime number as composite,\n",
    "    starting from 2. The remaining unmarked numbers are prime.\n",
    "    \"\"\"\n",
    "    # 550 is chosen because the 100th prime is 541\n",
    "    sieve = [True] * 550  # Create a list of boolean values, all set to True\n",
    "    sieve[0] = sieve[1] = False  # Set the first two values (0 and 1) to False, as they are not prime\n",
    "    \n",
    "    primes = []  # Initialise an empty list to store prime numbers\n",
    "    for i in range(2, 550):\n",
    "        if sieve[i]:\n",
    "            primes.append(i)  # If sieve[i] is True, i is a prime number\n",
    "            # Mark all multiples of i as False (not prime)\n",
    "            # We can start from i*i because all smaller multiples have already been marked\n",
    "            for j in range(i * i, 550, i):\n",
    "                sieve[j] = False\n",
    "        if len(primes) == 100:\n",
    "            break  # Stop once we have found 100 prime numbers\n",
    "    return primes  # Return the list of prime numbers"
   ]
  },
  {
   "cell_type": "code",
   "execution_count": 17,
   "metadata": {},
   "outputs": [
    {
     "name": "stdout",
     "output_type": "stream",
     "text": [
      "Trial Division method:\n",
      "[2, 3, 5, 7, 11, 13, 17, 19, 23, 29, 31, 37, 41, 43, 47, 53, 59, 61, 67, 71, 73, 79, 83, 89, 97, 101, 103, 107, 109, 113, 127, 131, 137, 139, 149, 151, 157, 163, 167, 173, 179, 181, 191, 193, 197, 199, 211, 223, 227, 229, 233, 239, 241, 251, 257, 263, 269, 271, 277, 281, 283, 293, 307, 311, 313, 317, 331, 337, 347, 349, 353, 359, 367, 373, 379, 383, 389, 397, 401, 409, 419, 421, 431, 433, 439, 443, 449, 457, 461, 463, 467, 479, 487, 491, 499, 503, 509, 521, 523, 541]\n",
      "\n",
      "Sieve method:\n",
      "[2, 3, 5, 7, 11, 13, 17, 19, 23, 29, 31, 37, 41, 43, 47, 53, 59, 61, 67, 71, 73, 79, 83, 89, 97, 101, 103, 107, 109, 113, 127, 131, 137, 139, 149, 151, 157, 163, 167, 173, 179, 181, 191, 193, 197, 199, 211, 223, 227, 229, 233, 239, 241, 251, 257, 263, 269, 271, 277, 281, 283, 293, 307, 311, 313, 317, 331, 337, 347, 349, 353, 359, 367, 373, 379, 383, 389, 397, 401, 409, 419, 421, 431, 433, 439, 443, 449, 457, 461, 463, 467, 479, 487, 491, 499, 503, 509, 521, 523, 541]\n",
      "\n",
      "Do both methods produce the same result? True\n"
     ]
    }
   ],
   "source": [
    "# Print results from both methods\n",
    "print(\"Trial Division method:\")\n",
    "trial_division_primes = trial_division()\n",
    "print(trial_division_primes)\n",
    "print(\"\\nSieve method:\")\n",
    "sieve_primes = sieve()\n",
    "print(sieve_primes)\n",
    "\n",
    "# Verify that both methods produce the same result\n",
    "print(\"\\nDo both methods produce the same result?\", trial_division_primes == sieve_primes)"
   ]
  },
  {
   "cell_type": "markdown",
   "metadata": {},
   "source": [
    "### Explanation of the Algorithms\n",
    "\n",
    "#### Trial Division\n",
    "Trial division is the simplest primality test. It works by checking if a number n is divisible by any integer from 2 up to √n (we only need to check up to the square root because if n = a × b, at least one of a or b is ≤ √n).\n",
    "\n",
    "**Advantages**:\n",
    "- Simple to understand and implement\n",
    "- Works for any range of numbers\n",
    "\n",
    "**Disadvantages**:\n",
    "- Inefficient for large numbers or long ranges\n",
    "- Has a time complexity of O(n√n) when finding all primes up to n\n",
    "\n",
    "#### Sieve of Eratosthenes\n",
    "The Sieve of Eratosthenes is an ancient algorithm for finding all prime numbers up to a specified limit. It works by iteratively marking the multiples of each prime, starting from 2. The numbers that remain unmarked are prime.\n",
    "\n",
    "**Advantages**:\n",
    "- Much more efficient than trial division for finding all primes in a range\n",
    "- Has a time complexity of O(n log log n) when finding all primes up to n\n",
    "\n",
    "**Disadvantages**:\n",
    "- Requires more memory to store the sieve array\n",
    "- Less efficient if you only need to check a few specific numbers"
   ]
  },
  {
   "cell_type": "markdown",
   "metadata": {},
   "source": [
    "## Task 5: Roots\n",
    "\n",
    "This task involves calculating the first 32 bits of the fractional part of the square roots of the first 100 prime numbers."
   ]
  },
  {
   "cell_type": "code",
   "execution_count": null,
   "metadata": {},
   "outputs": [],
   "source": [
    "def get_first_100_primes():\n",
    "    \"\"\"Calculate the first 100 prime numbers using the Sieve of Eratosthenes.\"\"\"\n",
    "    # We'll use the sieve method as it's more efficient\n",
    "    sieve = [True] * 550  # 550 is chosen because the 100th prime is 541\n",
    "    sieve[0] = sieve[1] = False\n",
    "    \n",
    "    primes = []\n",
    "    for i in range(2, 550):\n",
    "        if sieve[i]:\n",
    "            primes.append(i)\n",
    "            for j in range(i * i, 550, i):\n",
    "                sieve[j] = False\n",
    "        if len(primes) == 100:\n",
    "            break\n",
    "    return primes\n",
    "\n",
    "def get_binary_fraction(decimal_fraction, bits=32):\n",
    "    \"\"\"Convert a decimal fraction to its binary representation with the specified number of bits.\n",
    "    \n",
    "    The algorithm works by repeatedly multiplying the decimal fraction by 2 and taking the integer part\n",
    "    as the next bit in the binary representation. This is analogous to the way we convert a decimal\n",
    "    number to binary, but for the fractional part.\n",
    "    \"\"\"\n",
    "    binary = \"\"\n",
    "    for _ in range(bits):\n",
    "        decimal_fraction *= 2\n",
    "        bit = int(decimal_fraction)\n",
    "        binary += str(bit)\n",
    "        decimal_fraction -= bit\n",
    "    return binary\n",
    "\n",
    "def calculate_root_bits():\n",
    "    \"\"\"Calculate the first 32 bits of the fractional part of the square roots of the first 100 prime numbers.\"\"\"\n",
    "    primes = get_first_100_primes()\n",
    "    results = []\n",
    "    \n",
    "    for prime in primes:\n",
    "        # Calculate square root and get fractional part\n",
    "        sqrt_value = pow(prime, 0.5)\n",
    "        fractional_part = sqrt_value - int(sqrt_value)\n",
    "        \n",
    "        # Get binary representation of the fractional part\n",
    "        binary = get_binary_fraction(fractional_part)\n",
    "        results.append((prime, binary))\n",
    "    \n",
    "    return results"
   ]
  },
  {
   "cell_type": "code",
   "execution_count": null,
   "metadata": {},
   "outputs": [],
   "source": [
    "# Calculate and print the results\n",
    "results = calculate_root_bits()\n",
    "\n",
    "# Print the first 5 and last 5 results for brevity\n",
    "print(\"First 5 results:\")\n",
    "for prime, binary in results[:5]:\n",
    "    print(f\"√{prime} = {int(pow(prime, 0.5))}.{binary}\")\n",
    "\n",
    "print(\"\\nLast 5 results:\")\n",
    "for prime, binary in results[-5:]:\n",
    "    print(f\"√{prime} = {int(pow(prime, 0.5))}.{binary}\")"
   ]
  }
 ],
 "metadata": {
  "kernelspec": {
   "display_name": "Python 3",
   "language": "python",
   "name": "python3"
  },
  "language_info": {
   "codemirror_mode": {
    "name": "ipython",
    "version": 3
   },
   "file_extension": ".py",
   "mimetype": "text/x-python",
   "name": "python",
   "nbconvert_exporter": "python",
   "pygments_lexer": "ipython3",
   "version": "3.12.3"
  }
 },
 "nbformat": 4,
 "nbformat_minor": 4
}
