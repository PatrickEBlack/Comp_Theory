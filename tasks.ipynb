{
 "cells": [
  {
   "cell_type": "markdown",
   "metadata": {},
   "source": [
    "# Computational Theory Tasks\n",
    "\n",
    "This notebook contains the solutions to the tasks for the Computational Theory module."
   ]
  },
  {
   "cell_type": "markdown",
   "metadata": {},
   "source": [
    "## Task 1: Binary Representations\n",
    "\n",
    "This task implements various binary manipulation functions as specified in the requirements."
   ]
  },
  {
   "cell_type": "code",
   "execution_count": 3,
   "metadata": {},
   "outputs": [],
   "source": [
    "import unittest\n",
    "\n",
    "def rotl(x, n=1):\n",
    "    \"\"\"Rotate bits in a 32-bit unsigned integer to the left by n places.\"\"\"\n",
    "    n %= 32  # Ensure n is within valid range\n",
    "    return ((x << n) | (x >> (32 - n))) & 0xFFFFFFFF\n",
    "\n",
    "def rotr(x, n=1):\n",
    "    \"\"\"Rotate bits in a 32-bit unsigned integer to the right by n places.\"\"\"\n",
    "    n %= 32  # Ensure n is within valid range\n",
    "    return ((x >> n) | (x << (32 - n))) & 0xFFFFFFFF\n",
    "\n",
    "def ch(x, y, z):\n",
    "    \"\"\"Choose bits from y where x has bits set to 1, otherwise take bits from z.\"\"\"\n",
    "    return (x & y) | ((~x & 0xFFFFFFFF) & z)\n",
    "\n",
    "def maj(x, y, z):\n",
    "    \"\"\"Majority function: output has a 1 where at least two of x, y, and z have 1's in that position.\"\"\"\n",
    "    return (x & y) | (x & z) | (y & z)"
   ]
  },
  {
   "cell_type": "markdown",
   "metadata": {},
   "source": [
    "### Testing the binary functions"
   ]
  },
  {
   "cell_type": "code",
   "execution_count": null,
   "metadata": {},
   "outputs": [],
   "source": [
    "# Test cases for rotl function\n",
    "print(\"Testing rotl function:\")\n",
    "test_value = 0b10110011\n",
    "result = rotl(test_value, 2)\n",
    "print(f\"rotl(0b{test_value:08b}, 2) = 0b{result:08b}\")\n",
    "print(f\"Expected: 0b11001101\")\n",
    "print(f\"Correct: {result == 0b11001101}\")\n",
    "print()\n",
    "\n",
    "# Test cases for rotr function\n",
    "print(\"Testing rotr function:\")\n",
    "test_value = 0b10110011\n",
    "result = rotr(test_value, 2)\n",
    "print(f\"rotr(0b{test_value:08b}, 2) = 0b{result:08b}\")\n",
    "print(f\"Expected: 0b11101100\")\n",
    "print(f\"Correct: {result == 0b11101100}\")\n",
    "print()\n",
    "\n",
    "# Test cases for ch function\n",
    "print(\"Testing ch function:\")\n",
    "x, y, z = 0b10110011, 0b11001100, 0b11110000\n",
    "result = ch(x, y, z)\n",
    "print(f\"ch(0b{x:08b}, 0b{y:08b}, 0b{z:08b}) = 0b{result:08b}\")\n",
    "print(f\"Expected: 0b11001100\")\n",
    "print(f\"Correct: {result == 0b11001100}\")\n",
    "print()\n",
    "\n",
    "# Test cases for maj function\n",
    "print(\"Testing maj function:\")\n",
    "x, y, z = 0b10110011, 0b11001100, 0b11110000\n",
    "result = maj(x, y, z)\n",
    "print(f\"maj(0b{x:08b}, 0b{y:08b}, 0b{z:08b}) = 0b{result:08b}\")\n",
    "print(f\"Expected: 0b11110000\")\n",
    "print(f\"Correct: {result == 0b11110000}\")"
   ]
  }
 ],
 "metadata": {
  "kernelspec": {
   "display_name": "Python 3",
   "language": "python",
   "name": "python3"
  },
  "language_info": {
   "codemirror_mode": {
    "name": "ipython",
    "version": 3
   },
   "file_extension": ".py",
   "mimetype": "text/x-python",
   "name": "python",
   "nbconvert_exporter": "python",
   "pygments_lexer": "ipython3",
   "version": "3.12.3"
  }
 },
 "nbformat": 4,
 "nbformat_minor": 4
}
